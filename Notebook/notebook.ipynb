{
 "cells": [
  {
   "cell_type": "code",
   "execution_count": 2,
   "id": "2cb4bba7",
   "metadata": {
    "scrolled": true
   },
   "outputs": [
    {
     "name": "stdout",
     "output_type": "stream",
     "text": [
      "Collecting torch\n",
      "  Obtaining dependency information for torch from https://files.pythonhosted.org/packages/0b/fa/f33a4148c6fb46ca2a3f8de39c24d473822d5774d652b66ed9b1214da5f7/torch-2.6.0-cp311-none-macosx_11_0_arm64.whl.metadata\n",
      "  Downloading torch-2.6.0-cp311-none-macosx_11_0_arm64.whl.metadata (28 kB)\n",
      "Collecting torchvision\n",
      "  Obtaining dependency information for torchvision from https://files.pythonhosted.org/packages/29/88/00c69db213ee2443ada8886ec60789b227e06bb869d85ee324578221a7f7/torchvision-0.21.0-cp311-cp311-macosx_11_0_arm64.whl.metadata\n",
      "  Downloading torchvision-0.21.0-cp311-cp311-macosx_11_0_arm64.whl.metadata (6.1 kB)\n",
      "Requirement already satisfied: matplotlib in /Users/aminemorabit/anaconda3/lib/python3.11/site-packages (3.7.2)\n",
      "Requirement already satisfied: numpy in /Users/aminemorabit/anaconda3/lib/python3.11/site-packages (1.24.3)\n",
      "Requirement already satisfied: filelock in /Users/aminemorabit/anaconda3/lib/python3.11/site-packages (from torch) (3.9.0)\n",
      "Collecting typing-extensions>=4.10.0 (from torch)\n",
      "  Obtaining dependency information for typing-extensions>=4.10.0 from https://files.pythonhosted.org/packages/26/9f/ad63fc0248c5379346306f8668cda6e2e2e9c95e01216d2b8ffd9ff037d0/typing_extensions-4.12.2-py3-none-any.whl.metadata\n",
      "  Downloading typing_extensions-4.12.2-py3-none-any.whl.metadata (3.0 kB)\n",
      "Requirement already satisfied: networkx in /Users/aminemorabit/anaconda3/lib/python3.11/site-packages (from torch) (3.1)\n",
      "Requirement already satisfied: jinja2 in /Users/aminemorabit/anaconda3/lib/python3.11/site-packages (from torch) (3.1.2)\n",
      "Requirement already satisfied: fsspec in /Users/aminemorabit/anaconda3/lib/python3.11/site-packages (from torch) (2023.4.0)\n",
      "Collecting sympy==1.13.1 (from torch)\n",
      "  Obtaining dependency information for sympy==1.13.1 from https://files.pythonhosted.org/packages/b2/fe/81695a1aa331a842b582453b605175f419fe8540355886031328089d840a/sympy-1.13.1-py3-none-any.whl.metadata\n",
      "  Downloading sympy-1.13.1-py3-none-any.whl.metadata (12 kB)\n",
      "Requirement already satisfied: mpmath<1.4,>=1.1.0 in /Users/aminemorabit/anaconda3/lib/python3.11/site-packages (from sympy==1.13.1->torch) (1.3.0)\n",
      "Requirement already satisfied: pillow!=8.3.*,>=5.3.0 in /Users/aminemorabit/anaconda3/lib/python3.11/site-packages (from torchvision) (9.4.0)\n",
      "Requirement already satisfied: contourpy>=1.0.1 in /Users/aminemorabit/anaconda3/lib/python3.11/site-packages (from matplotlib) (1.0.5)\n",
      "Requirement already satisfied: cycler>=0.10 in /Users/aminemorabit/anaconda3/lib/python3.11/site-packages (from matplotlib) (0.11.0)\n",
      "Requirement already satisfied: fonttools>=4.22.0 in /Users/aminemorabit/anaconda3/lib/python3.11/site-packages (from matplotlib) (4.25.0)\n",
      "Requirement already satisfied: kiwisolver>=1.0.1 in /Users/aminemorabit/anaconda3/lib/python3.11/site-packages (from matplotlib) (1.4.4)\n",
      "Requirement already satisfied: packaging>=20.0 in /Users/aminemorabit/anaconda3/lib/python3.11/site-packages (from matplotlib) (23.1)\n",
      "Requirement already satisfied: pyparsing<3.1,>=2.3.1 in /Users/aminemorabit/anaconda3/lib/python3.11/site-packages (from matplotlib) (3.0.9)\n",
      "Requirement already satisfied: python-dateutil>=2.7 in /Users/aminemorabit/anaconda3/lib/python3.11/site-packages (from matplotlib) (2.8.2)\n",
      "Requirement already satisfied: six>=1.5 in /Users/aminemorabit/anaconda3/lib/python3.11/site-packages (from python-dateutil>=2.7->matplotlib) (1.16.0)\n",
      "Requirement already satisfied: MarkupSafe>=2.0 in /Users/aminemorabit/anaconda3/lib/python3.11/site-packages (from jinja2->torch) (2.1.1)\n",
      "Downloading torch-2.6.0-cp311-none-macosx_11_0_arm64.whl (66.5 MB)\n",
      "\u001b[2K   \u001b[90m━━━━━━━━━━━━━━━━━━━━━━━━━━━━━━━━━━━━━━━━\u001b[0m \u001b[32m66.5/66.5 MB\u001b[0m \u001b[31m3.5 MB/s\u001b[0m eta \u001b[36m0:00:00\u001b[0m00:01\u001b[0m00:01\u001b[0m\n",
      "\u001b[?25hDownloading sympy-1.13.1-py3-none-any.whl (6.2 MB)\n",
      "\u001b[2K   \u001b[90m━━━━━━━━━━━━━━━━━━━━━━━━━━━━━━━━━━━━━━━━\u001b[0m \u001b[32m6.2/6.2 MB\u001b[0m \u001b[31m4.7 MB/s\u001b[0m eta \u001b[36m0:00:00\u001b[0m00:01\u001b[0m00:01\u001b[0m\n",
      "\u001b[?25hDownloading torchvision-0.21.0-cp311-cp311-macosx_11_0_arm64.whl (1.8 MB)\n",
      "\u001b[2K   \u001b[90m━━━━━━━━━━━━━━━━━━━━━━━━━━━━━━━━━━━━━━━━\u001b[0m \u001b[32m1.8/1.8 MB\u001b[0m \u001b[31m5.4 MB/s\u001b[0m eta \u001b[36m0:00:00\u001b[0ma \u001b[36m0:00:01\u001b[0m\n",
      "\u001b[?25hUsing cached typing_extensions-4.12.2-py3-none-any.whl (37 kB)\n",
      "Installing collected packages: typing-extensions, sympy, torch, torchvision\n",
      "  Attempting uninstall: typing-extensions\n",
      "    Found existing installation: typing_extensions 4.7.1\n",
      "    Uninstalling typing_extensions-4.7.1:\n",
      "      Successfully uninstalled typing_extensions-4.7.1\n",
      "  Attempting uninstall: sympy\n",
      "    Found existing installation: sympy 1.11.1\n",
      "    Uninstalling sympy-1.11.1:\n",
      "      Successfully uninstalled sympy-1.11.1\n",
      "Successfully installed sympy-1.13.1 torch-2.6.0 torchvision-0.21.0 typing-extensions-4.12.2\n",
      "Note: you may need to restart the kernel to use updated packages.\n"
     ]
    }
   ],
   "source": [
    "pip install torch torchvision matplotlib numpy"
   ]
  },
  {
   "cell_type": "markdown",
   "id": "3bec437c",
   "metadata": {},
   "source": [
    "# Try different levels of noise and see how the model performs on denoising them"
   ]
  },
  {
   "cell_type": "code",
   "execution_count": 1,
   "id": "c0b417a7",
   "metadata": {},
   "outputs": [],
   "source": [
    "import torch\n",
    "import torch.nn as nn\n",
    "import torch.optim as optim\n",
    "import torchvision.transforms as transforms\n",
    "import torchvision.datasets as datasets\n",
    "import numpy as np\n",
    "import matplotlib.pyplot as plt"
   ]
  },
  {
   "cell_type": "code",
   "execution_count": 2,
   "id": "18512e56",
   "metadata": {},
   "outputs": [],
   "source": [
    "#Loading the dataset\n",
    "transform = transforms.Compose([transforms.ToTensor()])\n",
    "mnist_train = datasets.MNIST(root=\"./data\", train =True, transform=transform, download = True)\n",
    "mnist_test = datasets.MNIST(root=\"./data\", train= False, transform = transform, download= True)\n"
   ]
  },
  {
   "cell_type": "code",
   "execution_count": 3,
   "id": "53e75783",
   "metadata": {},
   "outputs": [],
   "source": [
    "#creating the dataloaders\n",
    "train_loader = torch.utils.data.DataLoader(mnist_train, batch_size = 64, shuffle = True)\n",
    "test_loader = torch.utils.data.DataLoader(mnist_test, batch_size = 64, shuffle = False)"
   ]
  },
  {
   "cell_type": "code",
   "execution_count": 4,
   "id": "65fb0fd7",
   "metadata": {},
   "outputs": [],
   "source": [
    "def add_noise(img, noise_std = 0.3):\n",
    "    noise = torch.randn_like(img) * noise_std\n",
    "    return torch.clamp(img+noise, 0., 1)"
   ]
  },
  {
   "cell_type": "markdown",
   "id": "3f5bfea1",
   "metadata": {},
   "source": [
    "def forward_diffusion(x, timesteps=10, noise_std=0.3):\n",
    "    noisy_imgs= []\n",
    "    for t in range(timesteps):\n",
    "        x = add_noise(x, noise_std)\n",
    "        noisy_imgs.append(x)\n",
    "    return noisy_imgs"
   ]
  },
  {
   "cell_type": "code",
   "execution_count": 5,
   "id": "7215977c",
   "metadata": {},
   "outputs": [],
   "source": [
    "class UNet(nn.Module):\n",
    "    def __init__(self):\n",
    "        super().__init__()\n",
    "        self.encoder= nn.Sequential(\n",
    "            nn.Conv2d(1, 32, 3, padding =1),\n",
    "            nn.ReLU(),\n",
    "            nn.Conv2d(32,64,3, padding = 1),\n",
    "            nn.ReLU(),\n",
    "            nn.MaxPool2d(2)\n",
    "        )\n",
    "        self.decoder = nn.Sequential(\n",
    "            nn.ConvTranspose2d(64, 32, 2, stride = 2),\n",
    "            nn.ReLU(),\n",
    "            nn.Conv2d(32, 1, 3, padding = 1),\n",
    "            nn.Sigmoid()\n",
    "        )\n",
    "    def forward(self, x):\n",
    "        x = self.encoder(x)\n",
    "        x  = self.decoder(x)\n",
    "        return x"
   ]
  },
  {
   "cell_type": "code",
   "execution_count": 6,
   "id": "549edeb9",
   "metadata": {},
   "outputs": [],
   "source": [
    "class TransformerBlock(nn.Module):\n",
    "    def __init__(self, embed_dim=64, num_heads=4, ff_dim=128):\n",
    "        super().__init__()\n",
    "        self.self_attn = nn.MultiheadAttention(embed_dim, num_heads, batch_first=True)\n",
    "        self.ff = nn.Sequential(\n",
    "            nn.Linear(embed_dim, ff_dim),\n",
    "            nn.ReLU(),\n",
    "            nn.Linear(ff_dim, embed_dim)\n",
    "        )\n",
    "        self.norm1 = nn.LayerNorm(embed_dim)\n",
    "        self.norm2 = nn.LayerNorm(embed_dim)\n",
    "\n",
    "    def forward(self, x):\n",
    "        attn_output, attn_weights = self.self_attn(x, x, x, need_weights=True)\n",
    "        x = self.norm1(x + attn_output)\n",
    "        x = self.norm2(x + self.ff(x))\n",
    "        return x, attn_weights\n"
   ]
  },
  {
   "cell_type": "code",
   "execution_count": 7,
   "id": "fecfc3e4",
   "metadata": {},
   "outputs": [],
   "source": [
    "class DenoisingModel(nn.Module):\n",
    "    def __init__(self):\n",
    "        super().__init__()\n",
    "        self.unet = UNet()\n",
    "        self.transformer = TransformerBlock()\n",
    "        self.projection = nn.Linear(1, 64)\n",
    "        self.expand = nn.Linear(64, 1)\n",
    "        self.attn_weights = None\n",
    "\n",
    "    def forward(self, x):\n",
    "        x = self.unet(x)\n",
    "        batch_size, _, height, width = x.shape\n",
    "        x = x.view(batch_size, height * width, 1)     # [B, 784, 1]\n",
    "        x = self.projection(x)                        # [B, 784, 64]\n",
    "        #x, attn_weights = self.transformer(x)         # [B, 784, 64]\n",
    "        #self.attn_weights = attn_weights              # [B, num_heads, 784, 784]\n",
    "        x = self.expand(x)                            # [B, 784, 1]\n",
    "        x = x.view(batch_size, 1, height, width)      # [B, 1, 28, 28]\n",
    "        return x\n"
   ]
  },
  {
   "cell_type": "code",
   "execution_count": 13,
   "id": "bcd75082",
   "metadata": {
    "scrolled": true
   },
   "outputs": [
    {
     "name": "stdout",
     "output_type": "stream",
     "text": [
      "Epoch [1/50], Loss: 0.0052\n",
      "Epoch [2/50], Loss: 0.0059\n",
      "Epoch [3/50], Loss: 0.0044\n",
      "Epoch [4/50], Loss: 0.0045\n",
      "Epoch [5/50], Loss: 0.0050\n",
      "Epoch [6/50], Loss: 0.0046\n",
      "Epoch [7/50], Loss: 0.0053\n",
      "Epoch [8/50], Loss: 0.0045\n",
      "Epoch [9/50], Loss: 0.0042\n",
      "Epoch [10/50], Loss: 0.0049\n",
      "Epoch [11/50], Loss: 0.0046\n",
      "Epoch [12/50], Loss: 0.0048\n",
      "Epoch [13/50], Loss: 0.0045\n",
      "Epoch [14/50], Loss: 0.0050\n",
      "Epoch [15/50], Loss: 0.0047\n",
      "Epoch [16/50], Loss: 0.0047\n",
      "Epoch [17/50], Loss: 0.0045\n",
      "Epoch [18/50], Loss: 0.0044\n",
      "Epoch [19/50], Loss: 0.0043\n",
      "Epoch [20/50], Loss: 0.0043\n",
      "Epoch [21/50], Loss: 0.0052\n",
      "Epoch [22/50], Loss: 0.0046\n",
      "Epoch [23/50], Loss: 0.0046\n",
      "Epoch [24/50], Loss: 0.0042\n",
      "Epoch [25/50], Loss: 0.0045\n",
      "Epoch [26/50], Loss: 0.0041\n",
      "Epoch [27/50], Loss: 0.0044\n",
      "Epoch [28/50], Loss: 0.0046\n",
      "Epoch [29/50], Loss: 0.0048\n",
      "Epoch [30/50], Loss: 0.0042\n",
      "Epoch [31/50], Loss: 0.0043\n",
      "Epoch [32/50], Loss: 0.0039\n",
      "Epoch [33/50], Loss: 0.0046\n",
      "Epoch [34/50], Loss: 0.0043\n",
      "Epoch [35/50], Loss: 0.0041\n",
      "Epoch [36/50], Loss: 0.0049\n",
      "Epoch [37/50], Loss: 0.0040\n",
      "Epoch [38/50], Loss: 0.0047\n",
      "Epoch [39/50], Loss: 0.0047\n",
      "Epoch [40/50], Loss: 0.0042\n",
      "Epoch [41/50], Loss: 0.0042\n",
      "Epoch [42/50], Loss: 0.0044\n",
      "Epoch [43/50], Loss: 0.0051\n",
      "Epoch [44/50], Loss: 0.0043\n",
      "Epoch [45/50], Loss: 0.0040\n",
      "Epoch [46/50], Loss: 0.0041\n",
      "Epoch [47/50], Loss: 0.0046\n",
      "Epoch [48/50], Loss: 0.0042\n",
      "Epoch [49/50], Loss: 0.0044\n",
      "Epoch [50/50], Loss: 0.0044\n"
     ]
    }
   ],
   "source": [
    "model = DenoisingModel()\n",
    "criterion = nn.MSELoss()\n",
    "optimizer = optim.Adam(model.parameters(), lr = 0.001)\n",
    "\n",
    "num_epochs = 50\n",
    "for epoch in range(num_epochs):\n",
    "    for images, _ in train_loader:\n",
    "        noisy_images = add_noise(images)\n",
    "        optimizer.zero_grad()\n",
    "        outputs = model(noisy_images)\n",
    "        loss = criterion(outputs, images)\n",
    "        loss.backward()\n",
    "        optimizer.step()\n",
    "    print(f\"Epoch [{epoch+1}/{num_epochs}], Loss: {loss.item():.4f}\")"
   ]
  },
  {
   "cell_type": "code",
   "execution_count": 14,
   "id": "8bc68ac1",
   "metadata": {},
   "outputs": [
    {
     "name": "stdout",
     "output_type": "stream",
     "text": [
      "Mean MSE: 0.0044, Mean SSIM: 0.9029\n"
     ]
    }
   ],
   "source": [
    "from skimage.metrics import structural_similarity as ssim\n",
    "\n",
    "def evaluate(model, test_loader):\n",
    "    model.eval()\n",
    "    mse_losses = []\n",
    "    ssim_scores = []\n",
    "\n",
    "    with torch.no_grad():\n",
    "        for images, _ in test_loader:\n",
    "            noisy_images = add_noise(images)\n",
    "            outputs = model(noisy_images)\n",
    "\n",
    "            mse_losses.append(criterion(outputs, images).item())\n",
    "\n",
    "            # Convert tensors to numpy\n",
    "            images_np = images.squeeze().cpu().numpy()\n",
    "            outputs_np = outputs.squeeze().cpu().numpy()\n",
    "\n",
    "            # Compute SSIM with a smaller window size (win_size=3)\n",
    "            ssim_value = ssim(images_np, outputs_np, data_range=1, win_size=3)\n",
    "\n",
    "            ssim_scores.append(ssim_value)\n",
    "\n",
    "    print(f\"Mean MSE: {np.mean(mse_losses):.4f}, Mean SSIM: {np.mean(ssim_scores):.4f}\")\n",
    "\n",
    "evaluate(model, test_loader)\n"
   ]
  },
  {
   "cell_type": "code",
   "execution_count": 15,
   "id": "2f4376b9",
   "metadata": {},
   "outputs": [
    {
     "data": {
      "image/png": "[encoded data removed]",
      "text/plain": [
       "<Figure size 1000x600 with 15 Axes>"
      ]
     },
     "metadata": {},
     "output_type": "display_data"
    }
   ],
   "source": [
    "def visualize(model, test_loader):\n",
    "    model.eval()\n",
    "    images, _ = next(iter(test_loader))\n",
    "    noisy_images = add_noise(images)\n",
    "    \n",
    "    with torch.no_grad():\n",
    "        denoised_images = model(noisy_images)\n",
    "    \n",
    "    fig, axes = plt.subplots(3, 5, figsize=(10, 6))\n",
    "    for i in range(5):\n",
    "        axes[0, i].imshow(images[i].squeeze(), cmap=\"gray\")\n",
    "        axes[0, i].set_title(\"Original\")\n",
    "        \n",
    "        axes[1, i].imshow(noisy_images[i].squeeze(), cmap=\"gray\")\n",
    "        axes[1, i].set_title(\"Noisy\")\n",
    "        \n",
    "        axes[2, i].imshow(denoised_images[i].squeeze(), cmap=\"gray\")\n",
    "        axes[2, i].set_title(\"Denoised\")\n",
    "    \n",
    "    plt.show()\n",
    "visualize(model, test_loader)\n",
    "        "
   ]
  },
  {
   "cell_type": "code",
   "execution_count": 16,
   "id": "5878f15a",
   "metadata": {},
   "outputs": [],
   "source": [
    "def visualize_attention(model, test_loader):\n",
    "    model.eval()\n",
    "    images, _ = next(iter(test_loader))\n",
    "    noisy_images = add_noise(images)\n",
    "\n",
    "    with torch.no_grad():\n",
    "        _ = model(noisy_images)\n",
    "        attn_weights = model.attn_weights  # [batch, num_heads, seq_len, seq_len]\n",
    "\n",
    "    # Check shape\n",
    "    print(\"Attention weight shape:\", attn_weights.shape)\n",
    "\n",
    "    # Visualize attention for first sample, first head\n",
    "    plt.imshow(attn_weights[0, 0].cpu().detach(), cmap=\"viridis\")  # [head 0, sample 0]\n",
    "    plt.title(\"Attention Map (Head 1)\")\n",
    "    plt.colorbar()\n",
    "    plt.show()\n"
   ]
  },
  {
   "cell_type": "code",
   "execution_count": 17,
   "id": "5fa1a0fd",
   "metadata": {},
   "outputs": [
    {
     "ename": "AttributeError",
     "evalue": "'NoneType' object has no attribute 'shape'",
     "output_type": "error",
     "traceback": [
      "\u001b[0;31m---------------------------------------------------------------------------\u001b[0m",
      "\u001b[0;31mAttributeError\u001b[0m                            Traceback (most recent call last)",
      "Cell \u001b[0;32mIn[17], line 1\u001b[0m\n\u001b[0;32m----> 1\u001b[0m visualize_attention(model, test_loader)\n",
      "Cell \u001b[0;32mIn[16], line 11\u001b[0m, in \u001b[0;36mvisualize_attention\u001b[0;34m(model, test_loader)\u001b[0m\n\u001b[1;32m      8\u001b[0m     attn_weights \u001b[38;5;241m=\u001b[39m model\u001b[38;5;241m.\u001b[39mattn_weights  \u001b[38;5;66;03m# [batch, num_heads, seq_len, seq_len]\u001b[39;00m\n\u001b[1;32m     10\u001b[0m \u001b[38;5;66;03m# Check shape\u001b[39;00m\n\u001b[0;32m---> 11\u001b[0m \u001b[38;5;28mprint\u001b[39m(\u001b[38;5;124m\"\u001b[39m\u001b[38;5;124mAttention weight shape:\u001b[39m\u001b[38;5;124m\"\u001b[39m, attn_weights\u001b[38;5;241m.\u001b[39mshape)\n\u001b[1;32m     13\u001b[0m \u001b[38;5;66;03m# Visualize attention for first sample, first head\u001b[39;00m\n\u001b[1;32m     14\u001b[0m plt\u001b[38;5;241m.\u001b[39mimshow(attn_weights[\u001b[38;5;241m0\u001b[39m, \u001b[38;5;241m0\u001b[39m]\u001b[38;5;241m.\u001b[39mcpu()\u001b[38;5;241m.\u001b[39mdetach(), cmap\u001b[38;5;241m=\u001b[39m\u001b[38;5;124m\"\u001b[39m\u001b[38;5;124mviridis\u001b[39m\u001b[38;5;124m\"\u001b[39m)  \u001b[38;5;66;03m# [head 0, sample 0]\u001b[39;00m\n",
      "\u001b[0;31mAttributeError\u001b[0m: 'NoneType' object has no attribute 'shape'"
     ]
    }
   ],
   "source": [
    "visualize_attention(model, test_loader)"
   ]
  },
  {
   "cell_type": "code",
   "execution_count": null,
   "id": "23096cff",
   "metadata": {},
   "outputs": [],
   "source": []
  }
 ],
 "metadata": {
  "kernelspec": {
   "display_name": "Python 3 (ipykernel)",
   "language": "python",
   "name": "python3"
  },
  "language_info": {
   "codemirror_mode": {
    "name": "ipython",
    "version": 3
   },
   "file_extension": ".py",
   "mimetype": "text/x-python",
   "name": "python",
   "nbconvert_exporter": "python",
   "pygments_lexer": "ipython3",
   "version": "3.11.5"
  }
 },
 "nbformat": 4,
 "nbformat_minor": 5
}
